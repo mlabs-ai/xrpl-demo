{
 "cells": [
  {
   "cell_type": "code",
   "execution_count": null,
   "metadata": {},
   "outputs": [],
   "source": [
    "# Establish some constants\n",
    "\n",
    "from pathlib import Path\n",
    "\n",
    "DATA_FILE = Path(\"data/raw_data.jsonl.xz\")"
   ]
  },
  {
   "cell_type": "code",
   "execution_count": null,
   "metadata": {},
   "outputs": [],
   "source": [
    "# Get current ledger\n",
    "\n",
    "import json\n",
    "import lzma\n",
    "import requests\n",
    "\n",
    "if DATA_FILE.exists():\n",
    "    with lzma.open(DATA_FILE, 'r') as file:\n",
    "        for line in file:\n",
    "            pass\n",
    "    obj = json.loads(line)\n",
    "    current_ledger = obj['ledger_index'] - 1\n",
    "else:\n",
    "    response = requests.get(\"https://api.xrpscan.com/api/v1/ledgers\").json()\n",
    "    current_ledger = response['current_ledger']\n",
    "\n",
    "print(f\"Starting from ledger {current_ledger}\")"
   ]
  },
  {
   "cell_type": "code",
   "execution_count": null,
   "metadata": {},
   "outputs": [],
   "source": [
    "from time import sleep\n",
    "\n",
    "# Write to LZMA file\n",
    "with lzma.open(DATA_FILE, 'a') as file:\n",
    "    # Get the ledgers\n",
    "    retry_count = 0\n",
    "    while True:\n",
    "        try:\n",
    "            # Get a new ledger, breaking if xrpscan refused the request\n",
    "            ledger_response = requests.get(f\"https://api.xrpscan.com/api/v1/ledger/{current_ledger}?origin=mlabs.city\")\n",
    "            retry_count = 0\n",
    "            code = ledger_response.status_code\n",
    "            if code == 500:\n",
    "                print(f\"Internal server error when fetching ledger {current_ledger + 1}\")\n",
    "                current_ledger -= 1\n",
    "                continue\n",
    "            if code != 200:\n",
    "                print(f\"Received response code of {code} for ledger {current_ledger + 1}\")\n",
    "                break\n",
    "\n",
    "            # Record the ledger object\n",
    "            ledger = ledger_response.json()\n",
    "            file.write(json.dumps(ledger).encode())\n",
    "            file.write(b\"\\n\")\n",
    "            current_ledger -= 1\n",
    "\n",
    "        # One keyboard interrupts, kill the loop gracefully\n",
    "        except KeyboardInterrupt:\n",
    "            break\n",
    "\n",
    "        # On all other errors, sleep for 10 seconds, then try again a maximum of 10 times\n",
    "        except:\n",
    "            if retry_count >= 10:\n",
    "                print(\"Error: connection refused too many times\")\n",
    "                break\n",
    "            sleep(10)\n",
    "            retry_count += 1"
   ]
  }
 ],
 "metadata": {
  "kernelspec": {
   "display_name": ".venv",
   "language": "python",
   "name": "python3"
  },
  "language_info": {
   "codemirror_mode": {
    "name": "ipython",
    "version": 3
   },
   "file_extension": ".py",
   "mimetype": "text/x-python",
   "name": "python",
   "nbconvert_exporter": "python",
   "pygments_lexer": "ipython3",
   "version": "3.12.9"
  }
 },
 "nbformat": 4,
 "nbformat_minor": 2
}
