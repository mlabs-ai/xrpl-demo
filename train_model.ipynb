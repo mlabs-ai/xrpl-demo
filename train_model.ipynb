{
 "cells": [
  {
   "cell_type": "code",
   "execution_count": 12,
   "metadata": {},
   "outputs": [],
   "source": [
    "# Create function to load dataset from csv file. Data from month column will be output as X_month,\n",
    "# data from day column will be output as X_day, data from hour column will be output as X_hour,\n",
    "# data from tx_count will be output as y, and all other data will be output as X_numeric.\n",
    "# All data will be converted to tensors.\n",
    "\n",
    "import os\n",
    "import pandas as pd\n",
    "import torch\n",
    "\n",
    "def load_dataset(\n",
    "    csv_file: os.PathLike,\n",
    "    window_size: int\n",
    ") -> tuple[torch.Tensor, torch.Tensor, torch.Tensor, torch.Tensor, torch.Tensor]:\n",
    "    # Read the raw data from the file\n",
    "    df = pd.read_csv(csv_file)\n",
    "\n",
    "    # Conver the data to tensors\n",
    "    raw_X_month = torch.tensor(df['month'].values)\n",
    "    raw_X_day = torch.tensor(df['day'].values)\n",
    "    raw_X_hour = torch.tensor(df['hour'].values)\n",
    "    raw_X_numeric = torch.tensor(df.drop(['month', 'day', 'hour', 'y'], axis=1).values).float()\n",
    "    raw_y = torch.tensor(df['y'].values).float()\n",
    "\n",
    "    # Make sure we are using a window size that makes sense with our data\n",
    "    window_size = min(window_size, len(raw_X_month))\n",
    "\n",
    "    # Get sliding windows of the data\n",
    "    X_month = raw_X_month.unfold(0, window_size, 1)\n",
    "    X_day = raw_X_day.unfold(0, window_size, 1)\n",
    "    X_hour = raw_X_hour.unfold(0, window_size, 1)\n",
    "    X_numeric = raw_X_numeric.unfold(0, window_size, 1).transpose(-1, -2)\n",
    "    y = raw_y.unfold(0, window_size, 1)\n",
    "\n",
    "    return X_month, X_day, X_hour, X_numeric, y"
   ]
  },
  {
   "cell_type": "code",
   "execution_count": 13,
   "metadata": {},
   "outputs": [],
   "source": [
    "# Create a PyTorch model that takes in 4 inputs (X_month, X_day, X_hour, X_numeric)\n",
    "# and outputs a series of predictions (y). It will feed X_month, X_day, and X_hour into embedding layers,\n",
    "# which will then be concatenated with X_numeric and fed into an LSTM layer.\n",
    "\n",
    "import torch.nn as nn\n",
    "\n",
    "class Model(nn.Module):\n",
    "    def __init__(self):\n",
    "        super(Model, self).__init__()\n",
    "        self.embedding_month = nn.Embedding(12, 2)\n",
    "        self.embedding_day = nn.Embedding(31, 25)\n",
    "        self.embedding_hour = nn.Embedding(24, 50)\n",
    "        self.lstm = nn.LSTM(82, 80, 4, bidirectional=True, batch_first=True)\n",
    "        self.linear = nn.Sequential(\n",
    "            nn.Linear(160, 80),\n",
    "            nn.Linear(80, 40),\n",
    "            nn.Linear(40, 1)\n",
    "        )\n",
    "\n",
    "    def forward(self, X_month, X_day, X_hour, X_numeric):\n",
    "        X_month = self.embedding_month(X_month)\n",
    "        X_day = self.embedding_day(X_day)\n",
    "        X_hour = self.embedding_hour(X_hour)\n",
    "        X = torch.cat((X_month, X_day, X_hour, X_numeric), dim=-1)\n",
    "        X, _ = self.lstm(X)\n",
    "        X = self.linear(X)\n",
    "        return X.squeeze()"
   ]
  },
  {
   "cell_type": "code",
   "execution_count": 14,
   "metadata": {},
   "outputs": [],
   "source": [
    "# Create a function to train an instance of Model on a given dataset.\n",
    "\n",
    "import torch.optim as optim\n",
    "from tqdm import tqdm\n",
    "\n",
    "def train_model(\n",
    "    model: Model,\n",
    "    X_month: torch.Tensor,\n",
    "    X_day: torch.Tensor,\n",
    "    X_hour: torch.Tensor,\n",
    "    X_numeric: torch.Tensor,\n",
    "    y: torch.Tensor,\n",
    "    epochs: int\n",
    ") -> list[float]:\n",
    "    criterion = nn.MSELoss()\n",
    "    optimizer = optim.Adam(model.parameters(), lr=0.001)\n",
    "\n",
    "    pbar = tqdm(range(epochs))\n",
    "    losses = []\n",
    "    for i in pbar:\n",
    "        model.train()\n",
    "        optimizer.zero_grad()\n",
    "\n",
    "        if i == epochs - 1:\n",
    "            print(\"n\")\n",
    "\n",
    "        y_pred = model(X_month, X_day, X_hour, X_numeric)\n",
    "        loss = criterion(y_pred, y)\n",
    "        losses.append(loss.item())\n",
    "\n",
    "        loss.backward()\n",
    "        optimizer.step()\n",
    "\n",
    "        pbar.set_description(f'Loss: {loss.item()}')\n",
    "    return losses"
   ]
  },
  {
   "cell_type": "code",
   "execution_count": 15,
   "metadata": {},
   "outputs": [],
   "source": [
    "from sklearn.model_selection import TimeSeriesSplit\n",
    "import matplotlib.pyplot as plt\n",
    "\n",
    "def cross_validate(X_month, X_day, X_hour, X_numeric, y, epochs, cv=5) -> list[list[float]]:\n",
    "    tscv = TimeSeriesSplit(n_splits=cv)\n",
    "    pbar = tqdm(tscv.split(X_numeric))\n",
    "    split_losses = []\n",
    "    for train_index, test_index in pbar:\n",
    "        X_month_train, X_day_train, X_hour_train, X_numeric_train, y_train = X_month[train_index], X_day[train_index], X_hour[train_index], X_numeric[train_index], y[train_index]\n",
    "        X_month_test, X_day_test, X_hour_test, X_numeric_test, y_test = X_month[test_index], X_day[test_index], X_hour[test_index], X_numeric[test_index], y[test_index]\n",
    "\n",
    "        model = Model()\n",
    "        losses = train_model(model, X_month_train, X_day_train, X_hour_train, X_numeric_train, y_train, epochs)\n",
    "        y_pred = model(X_month_test, X_day_test, X_hour_test, X_numeric_test)\n",
    "        loss = nn.MSELoss()(y_pred, y_test)\n",
    "        pbar.set_description(f\"Fold MSE: {loss.item()}\")\n",
    "        split_losses.append(losses)\n",
    "\n",
    "    return split_losses\n"
   ]
  },
  {
   "cell_type": "code",
   "execution_count": null,
   "metadata": {},
   "outputs": [
    {
     "name": "stderr",
     "output_type": "stream",
     "text": [
      "0it [00:00, ?it/s]"
     ]
    }
   ],
   "source": [
    "# Load training dataset and perform cross-validation\n",
    "with torch.device(\"cuda:0\"):\n",
    "    X_month, X_day, X_hour, X_numeric, y = load_dataset('data/train.csv', 24)\n",
    "    split_losses = cross_validate(X_month, X_day, X_hour, X_numeric, y, 1000000, cv=5)"
   ]
  },
  {
   "cell_type": "code",
   "execution_count": null,
   "metadata": {},
   "outputs": [
    {
     "data": {
      "text/plain": [
       "[<matplotlib.lines.Line2D at 0x7191967c7830>]"
      ]
     },
     "execution_count": 6,
     "metadata": {},
     "output_type": "execute_result"
    },
    {
     "data": {
      "image/png": "[encoded data removed]",
      "text/plain": [
       "<Figure size 640x480 with 1 Axes>"
      ]
     },
     "metadata": {},
     "output_type": "display_data"
    }
   ],
   "source": [
    "import math\n",
    "\n",
    "avg_losses = [\n",
    "    sum([losses[i] for losses in split_losses]) / len(split_losses)\n",
    "    for i in range(len(split_losses[0]))\n",
    "]\n",
    "plot = [math.log(l) for l in avg_losses]\n",
    "plt.plot(plot)"
   ]
  }
 ],
 "metadata": {
  "kernelspec": {
   "display_name": ".venv",
   "language": "python",
   "name": "python3"
  },
  "language_info": {
   "codemirror_mode": {
    "name": "ipython",
    "version": 3
   },
   "file_extension": ".py",
   "mimetype": "text/x-python",
   "name": "python",
   "nbconvert_exporter": "python",
   "pygments_lexer": "ipython3",
   "version": "3.12.3"
  }
 },
 "nbformat": 4,
 "nbformat_minor": 2
}
