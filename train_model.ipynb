{
 "cells": [
  {
   "cell_type": "code",
   "execution_count": 1,
   "metadata": {},
   "outputs": [],
   "source": [
    "# Create function to load dataset from csv file. Data from month column will be output as X_month,\n",
    "# data from day column will be output as X_day, data from hour column will be output as X_hour,\n",
    "# data from tx_count will be output as y, and all other data will be output as X_numeric.\n",
    "# All data will be converted to tensors.\n",
    "\n",
    "import os\n",
    "import pandas as pd\n",
    "import torch\n",
    "\n",
    "def load_dataset(\n",
    "    csv_file: os.PathLike\n",
    ") -> tuple[torch.Tensor, torch.Tensor, torch.Tensor, torch.Tensor, torch.Tensor]:\n",
    "    df = pd.read_csv(csv_file)\n",
    "\n",
    "    X_month = torch.tensor(df['month'].values)\n",
    "    X_day = torch.tensor(df['day'].values)\n",
    "    X_hour = torch.tensor(df['hour'].values)\n",
    "    X_numeric = torch.tensor(df.drop(['month', 'day', 'hour', 'y'], axis=1).values).float()\n",
    "    y = torch.tensor(df['y'].values).float()\n",
    "\n",
    "    return X_month, X_day, X_hour, X_numeric, y"
   ]
  },
  {
   "cell_type": "code",
   "execution_count": 2,
   "metadata": {},
   "outputs": [],
   "source": [
    "# Create a PyTorch model that takes in 4 inputs (X_month, X_day, X_hour, X_numeric)\n",
    "# and outputs a series of predictions (y). It will feed X_month, X_day, and X_hour into embedding layers,\n",
    "# which will then be concatenated with X_numeric and fed into an LSTM layer.\n",
    "\n",
    "import torch\n",
    "import torch.nn as nn\n",
    "\n",
    "class Model(nn.Module):\n",
    "    def __init__(self):\n",
    "        super(Model, self).__init__()\n",
    "        self.embedding_month = nn.Embedding(12, 5)\n",
    "        self.embedding_day = nn.Embedding(31, 5)\n",
    "        self.embedding_hour = nn.Embedding(24, 5)\n",
    "        self.lstm = nn.LSTM(19, 5, bidirectional=True, batch_first=True)\n",
    "        self.linear = nn.Linear(10, 1)\n",
    "\n",
    "    def forward(self, X_month, X_day, X_hour, X_numeric):\n",
    "        X_month = self.embedding_month(X_month)\n",
    "        X_day = self.embedding_day(X_day)\n",
    "        X_hour = self.embedding_hour(X_hour)\n",
    "        X = torch.cat((X_month, X_day, X_hour, X_numeric), dim=1)\n",
    "        X, _ = self.lstm(X)\n",
    "        X = self.linear(X)\n",
    "        return X"
   ]
  },
  {
   "cell_type": "code",
   "execution_count": 3,
   "metadata": {},
   "outputs": [],
   "source": [
    "# Create a function to train an instance of Model on a given dataset.\n",
    "\n",
    "import torch.optim as optim\n",
    "from tqdm import tqdm\n",
    "\n",
    "def train_model(\n",
    "    model: Model,\n",
    "    X_month: torch.Tensor,\n",
    "    X_day: torch.Tensor,\n",
    "    X_hour: torch.Tensor,\n",
    "    X_numeric: torch.Tensor,\n",
    "    y: torch.Tensor,\n",
    "    epochs: int\n",
    "):\n",
    "    criterion = nn.MSELoss()\n",
    "    optimizer = optim.Adam(model.parameters(), lr=0.01)\n",
    "\n",
    "    pbar = tqdm(range(epochs))\n",
    "    for _ in pbar:\n",
    "        model.train()\n",
    "        optimizer.zero_grad()\n",
    "\n",
    "        y_pred = model(X_month, X_day, X_hour, X_numeric)\n",
    "        loss = criterion(y_pred, y)\n",
    "\n",
    "        loss.backward()\n",
    "        optimizer.step()\n",
    "\n",
    "        pbar.set_description(f'Loss: {loss.item()}')"
   ]
  },
  {
   "cell_type": "code",
   "execution_count": 4,
   "metadata": {},
   "outputs": [],
   "source": [
    "from sklearn.model_selection import TimeSeriesSplit\n",
    "\n",
    "def cross_validate(X_month, X_day, X_hour, X_numeric, y, cv=5):\n",
    "    tscv = TimeSeriesSplit(n_splits=cv)\n",
    "    pbar = tqdm(tscv.split(X_numeric))\n",
    "    for train_index, test_index in pbar:\n",
    "        X_month_train, X_day_train, X_hour_train, X_numeric_train, y_train = X_month[train_index], X_day[train_index], X_hour[train_index], X_numeric[train_index], y[train_index]\n",
    "        X_month_test, X_day_test, X_hour_test, X_numeric_test, y_test = X_month[test_index], X_day[test_index], X_hour[test_index], X_numeric[test_index], y[test_index]\n",
    "\n",
    "        model = Model()\n",
    "        train_model(model, X_month_train, X_day_train, X_hour_train, X_numeric_train, y_train, epochs=10)\n",
    "        y_pred = model(X_month_test, X_day_test, X_hour_test, X_numeric_test)\n",
    "        loss = nn.MSELoss()(y_pred, y_test)\n",
    "        pbar.set_description(f\"Fold Loss: {loss.item()}\")"
   ]
  },
  {
   "cell_type": "code",
   "execution_count": 5,
   "metadata": {},
   "outputs": [
    {
     "name": "stderr",
     "output_type": "stream",
     "text": [
      "0it [00:00, ?it/s]0.00s - Debugger warning: It seems that frozen modules are being used, which may\n",
      "0.00s - make the debugger miss breakpoints. Please pass -Xfrozen_modules=off\n",
      "0.00s - to python to disable frozen modules.\n",
      "0.00s - Note: Debugging will proceed. Set PYDEVD_DISABLE_FILE_VALIDATION=1 to disable this validation.\n",
      "0it [01:04, ?it/s]\n",
      "ERROR:tornado.general:SEND Error: Host unreachable\n"
     ]
    },
    {
     "ename": "KeyboardInterrupt",
     "evalue": "",
     "output_type": "error",
     "traceback": [
      "\u001b[0;31m---------------------------------------------------------------------------\u001b[0m",
      "\u001b[0;31mKeyboardInterrupt\u001b[0m                         Traceback (most recent call last)",
      "Cell \u001b[0;32mIn[5], line 3\u001b[0m\n\u001b[1;32m      1\u001b[0m \u001b[38;5;66;03m# Load training dataset and perform cross-validation\u001b[39;00m\n\u001b[1;32m      2\u001b[0m X_month, X_day, X_hour, X_numeric, y \u001b[38;5;241m=\u001b[39m load_dataset(\u001b[38;5;124m'\u001b[39m\u001b[38;5;124mdata/train.csv\u001b[39m\u001b[38;5;124m'\u001b[39m)\n\u001b[0;32m----> 3\u001b[0m \u001b[43mcross_validate\u001b[49m\u001b[43m(\u001b[49m\u001b[43mX_month\u001b[49m\u001b[43m,\u001b[49m\u001b[43m \u001b[49m\u001b[43mX_day\u001b[49m\u001b[43m,\u001b[49m\u001b[43m \u001b[49m\u001b[43mX_hour\u001b[49m\u001b[43m,\u001b[49m\u001b[43m \u001b[49m\u001b[43mX_numeric\u001b[49m\u001b[43m,\u001b[49m\u001b[43m \u001b[49m\u001b[43my\u001b[49m\u001b[43m,\u001b[49m\u001b[43m \u001b[49m\u001b[43mcv\u001b[49m\u001b[38;5;241;43m=\u001b[39;49m\u001b[38;5;241;43m5\u001b[39;49m\u001b[43m)\u001b[49m\n",
      "Cell \u001b[0;32mIn[4], line 11\u001b[0m, in \u001b[0;36mcross_validate\u001b[0;34m(X_month, X_day, X_hour, X_numeric, y, cv)\u001b[0m\n\u001b[1;32m      8\u001b[0m X_month_test, X_day_test, X_hour_test, X_numeric_test, y_test \u001b[38;5;241m=\u001b[39m X_month[test_index], X_day[test_index], X_hour[test_index], X_numeric[test_index], y[test_index]\n\u001b[1;32m     10\u001b[0m model \u001b[38;5;241m=\u001b[39m Model()\n\u001b[0;32m---> 11\u001b[0m \u001b[43mtrain_model\u001b[49m(model, X_month_train, X_day_train, X_hour_train, X_numeric_train, y_train, epochs\u001b[38;5;241m=\u001b[39m\u001b[38;5;241m10\u001b[39m)\n\u001b[1;32m     12\u001b[0m y_pred \u001b[38;5;241m=\u001b[39m model(X_month_test, X_day_test, X_hour_test, X_numeric_test)\n\u001b[1;32m     13\u001b[0m loss \u001b[38;5;241m=\u001b[39m nn\u001b[38;5;241m.\u001b[39mMSELoss()(y_pred, y_test)\n",
      "File \u001b[0;32m~/work/xrp_demo/.venv/lib/python3.12/site-packages/debugpy/_vendored/pydevd/_pydevd_sys_monitoring/_pydevd_sys_monitoring.py:1464\u001b[0m, in \u001b[0;36m_line_event\u001b[0;34m(code, line)\u001b[0m\n\u001b[1;32m   1460\u001b[0m \u001b[38;5;66;03m# pydev_log.debug('_line_event', code.co_name, line)\u001b[39;00m\n\u001b[1;32m   1461\u001b[0m \n\u001b[1;32m   1462\u001b[0m \u001b[38;5;66;03m# We know the frame depth.\u001b[39;00m\n\u001b[1;32m   1463\u001b[0m frame \u001b[38;5;241m=\u001b[39m _getframe(\u001b[38;5;241m1\u001b[39m)\n\u001b[0;32m-> 1464\u001b[0m \u001b[38;5;28;01mreturn\u001b[39;00m \u001b[43m_internal_line_event\u001b[49m\u001b[43m(\u001b[49m\u001b[43mfunc_code_info\u001b[49m\u001b[43m,\u001b[49m\u001b[43m \u001b[49m\u001b[43mframe\u001b[49m\u001b[43m,\u001b[49m\u001b[43m \u001b[49m\u001b[43mline\u001b[49m\u001b[43m)\u001b[49m\n",
      "File \u001b[0;32m~/work/xrp_demo/.venv/lib/python3.12/site-packages/debugpy/_vendored/pydevd/_pydevd_sys_monitoring/_pydevd_sys_monitoring.py:1585\u001b[0m, in \u001b[0;36m_internal_line_event\u001b[0;34m(func_code_info, frame, line)\u001b[0m\n\u001b[1;32m   1583\u001b[0m     \u001b[38;5;28;01mif\u001b[39;00m _is_same_frame(info, stop_frame, frame):\n\u001b[1;32m   1584\u001b[0m         py_db\u001b[38;5;241m.\u001b[39mset_suspend(thread_info\u001b[38;5;241m.\u001b[39mthread, step_cmd, original_step_cmd\u001b[38;5;241m=\u001b[39minfo\u001b[38;5;241m.\u001b[39mpydev_original_step_cmd)\n\u001b[0;32m-> 1585\u001b[0m         \u001b[43m_do_wait_suspend\u001b[49m\u001b[43m(\u001b[49m\u001b[43mpy_db\u001b[49m\u001b[43m,\u001b[49m\u001b[43m \u001b[49m\u001b[43mthread_info\u001b[49m\u001b[43m,\u001b[49m\u001b[43m \u001b[49m\u001b[43mframe\u001b[49m\u001b[43m,\u001b[49m\u001b[43m \u001b[49m\u001b[38;5;124;43m\"\u001b[39;49m\u001b[38;5;124;43mline\u001b[39;49m\u001b[38;5;124;43m\"\u001b[39;49m\u001b[43m,\u001b[49m\u001b[43m \u001b[49m\u001b[38;5;28;43;01mNone\u001b[39;49;00m\u001b[43m)\u001b[49m\n\u001b[1;32m   1586\u001b[0m         \u001b[38;5;28;01mreturn\u001b[39;00m\n\u001b[1;32m   1588\u001b[0m \u001b[38;5;28;01melif\u001b[39;00m step_cmd \u001b[38;5;241m==\u001b[39m CMD_SMART_STEP_INTO:\n",
      "File \u001b[0;32m~/work/xrp_demo/.venv/lib/python3.12/site-packages/debugpy/_vendored/pydevd/_pydevd_sys_monitoring/_pydevd_sys_monitoring.py:1944\u001b[0m, in \u001b[0;36m_do_wait_suspend\u001b[0;34m(py_db, thread_info, frame, event, arg)\u001b[0m\n\u001b[1;32m   1940\u001b[0m \u001b[38;5;28;01mdef\u001b[39;00m\u001b[38;5;250m \u001b[39m\u001b[38;5;21m_do_wait_suspend\u001b[39m(py_db, thread_info, frame, event, arg):\n\u001b[1;32m   1941\u001b[0m \u001b[38;5;66;03m# ENDIF\u001b[39;00m\n\u001b[1;32m   1942\u001b[0m \u001b[38;5;66;03m# fmt: on\u001b[39;00m\n\u001b[1;32m   1943\u001b[0m     thread_info\u001b[38;5;241m.\u001b[39madditional_info\u001b[38;5;241m.\u001b[39mtrace_suspend_type \u001b[38;5;241m=\u001b[39m \u001b[38;5;124m\"\u001b[39m\u001b[38;5;124msys_monitor\u001b[39m\u001b[38;5;124m\"\u001b[39m\n\u001b[0;32m-> 1944\u001b[0m     \u001b[43mpy_db\u001b[49m\u001b[38;5;241;43m.\u001b[39;49m\u001b[43mdo_wait_suspend\u001b[49m\u001b[43m(\u001b[49m\u001b[43mthread_info\u001b[49m\u001b[38;5;241;43m.\u001b[39;49m\u001b[43mthread\u001b[49m\u001b[43m,\u001b[49m\u001b[43m \u001b[49m\u001b[43mframe\u001b[49m\u001b[43m,\u001b[49m\u001b[43m \u001b[49m\u001b[43mevent\u001b[49m\u001b[43m,\u001b[49m\u001b[43m \u001b[49m\u001b[43marg\u001b[49m\u001b[43m)\u001b[49m\n",
      "File \u001b[0;32m~/work/xrp_demo/.venv/lib/python3.12/site-packages/debugpy/_vendored/pydevd/pydevd.py:2185\u001b[0m, in \u001b[0;36mPyDB.do_wait_suspend\u001b[0;34m(self, thread, frame, event, arg, exception_type)\u001b[0m\n\u001b[1;32m   2182\u001b[0m             from_this_thread\u001b[38;5;241m.\u001b[39mappend(frame_custom_thread_id)\n\u001b[1;32m   2184\u001b[0m     \u001b[38;5;28;01mwith\u001b[39;00m \u001b[38;5;28mself\u001b[39m\u001b[38;5;241m.\u001b[39m_threads_suspended_single_notification\u001b[38;5;241m.\u001b[39mnotify_thread_suspended(thread_id, thread, stop_reason):\n\u001b[0;32m-> 2185\u001b[0m         keep_suspended \u001b[38;5;241m=\u001b[39m \u001b[38;5;28;43mself\u001b[39;49m\u001b[38;5;241;43m.\u001b[39;49m\u001b[43m_do_wait_suspend\u001b[49m\u001b[43m(\u001b[49m\u001b[43mthread\u001b[49m\u001b[43m,\u001b[49m\u001b[43m \u001b[49m\u001b[43mframe\u001b[49m\u001b[43m,\u001b[49m\u001b[43m \u001b[49m\u001b[43mevent\u001b[49m\u001b[43m,\u001b[49m\u001b[43m \u001b[49m\u001b[43marg\u001b[49m\u001b[43m,\u001b[49m\u001b[43m \u001b[49m\u001b[43mtrace_suspend_type\u001b[49m\u001b[43m,\u001b[49m\u001b[43m \u001b[49m\u001b[43mfrom_this_thread\u001b[49m\u001b[43m,\u001b[49m\u001b[43m \u001b[49m\u001b[43mframes_tracker\u001b[49m\u001b[43m)\u001b[49m\n\u001b[1;32m   2187\u001b[0m frames_list \u001b[38;5;241m=\u001b[39m \u001b[38;5;28;01mNone\u001b[39;00m\n\u001b[1;32m   2189\u001b[0m \u001b[38;5;28;01mif\u001b[39;00m keep_suspended:\n\u001b[1;32m   2190\u001b[0m     \u001b[38;5;66;03m# This means that we should pause again after a set next statement.\u001b[39;00m\n",
      "File \u001b[0;32m~/work/xrp_demo/.venv/lib/python3.12/site-packages/debugpy/_vendored/pydevd/pydevd.py:2254\u001b[0m, in \u001b[0;36mPyDB._do_wait_suspend\u001b[0;34m(self, thread, frame, event, arg, trace_suspend_type, from_this_thread, frames_tracker)\u001b[0m\n\u001b[1;32m   2251\u001b[0m                 queue\u001b[38;5;241m.\u001b[39mput(internal_cmd)\n\u001b[1;32m   2252\u001b[0m                 wait_timeout \u001b[38;5;241m=\u001b[39m TIMEOUT_FAST\n\u001b[0;32m-> 2254\u001b[0m         \u001b[43mnotify_event\u001b[49m\u001b[38;5;241;43m.\u001b[39;49m\u001b[43mwait\u001b[49m\u001b[43m(\u001b[49m\u001b[43mwait_timeout\u001b[49m\u001b[43m)\u001b[49m\n\u001b[1;32m   2255\u001b[0m         notify_event\u001b[38;5;241m.\u001b[39mclear()\n\u001b[1;32m   2257\u001b[0m \u001b[38;5;28;01mfinally\u001b[39;00m:\n",
      "File \u001b[0;32m/usr/local/Cellar/python@3.12/3.12.9/Frameworks/Python.framework/Versions/3.12/lib/python3.12/threading.py:655\u001b[0m, in \u001b[0;36mEvent.wait\u001b[0;34m(self, timeout)\u001b[0m\n\u001b[1;32m    653\u001b[0m signaled \u001b[38;5;241m=\u001b[39m \u001b[38;5;28mself\u001b[39m\u001b[38;5;241m.\u001b[39m_flag\n\u001b[1;32m    654\u001b[0m \u001b[38;5;28;01mif\u001b[39;00m \u001b[38;5;129;01mnot\u001b[39;00m signaled:\n\u001b[0;32m--> 655\u001b[0m     signaled \u001b[38;5;241m=\u001b[39m \u001b[38;5;28;43mself\u001b[39;49m\u001b[38;5;241;43m.\u001b[39;49m\u001b[43m_cond\u001b[49m\u001b[38;5;241;43m.\u001b[39;49m\u001b[43mwait\u001b[49m\u001b[43m(\u001b[49m\u001b[43mtimeout\u001b[49m\u001b[43m)\u001b[49m\n\u001b[1;32m    656\u001b[0m \u001b[38;5;28;01mreturn\u001b[39;00m signaled\n",
      "File \u001b[0;32m/usr/local/Cellar/python@3.12/3.12.9/Frameworks/Python.framework/Versions/3.12/lib/python3.12/threading.py:359\u001b[0m, in \u001b[0;36mCondition.wait\u001b[0;34m(self, timeout)\u001b[0m\n\u001b[1;32m    357\u001b[0m \u001b[38;5;28;01melse\u001b[39;00m:\n\u001b[1;32m    358\u001b[0m     \u001b[38;5;28;01mif\u001b[39;00m timeout \u001b[38;5;241m>\u001b[39m \u001b[38;5;241m0\u001b[39m:\n\u001b[0;32m--> 359\u001b[0m         gotit \u001b[38;5;241m=\u001b[39m \u001b[43mwaiter\u001b[49m\u001b[38;5;241;43m.\u001b[39;49m\u001b[43macquire\u001b[49m\u001b[43m(\u001b[49m\u001b[38;5;28;43;01mTrue\u001b[39;49;00m\u001b[43m,\u001b[49m\u001b[43m \u001b[49m\u001b[43mtimeout\u001b[49m\u001b[43m)\u001b[49m\n\u001b[1;32m    360\u001b[0m     \u001b[38;5;28;01melse\u001b[39;00m:\n\u001b[1;32m    361\u001b[0m         gotit \u001b[38;5;241m=\u001b[39m waiter\u001b[38;5;241m.\u001b[39macquire(\u001b[38;5;28;01mFalse\u001b[39;00m)\n",
      "\u001b[0;31mKeyboardInterrupt\u001b[0m: "
     ]
    }
   ],
   "source": [
    "# Load training dataset and perform cross-validation\n",
    "X_month, X_day, X_hour, X_numeric, y = load_dataset('data/train.csv')\n",
    "cross_validate(X_month, X_day, X_hour, X_numeric, y, cv=5)"
   ]
  }
 ],
 "metadata": {
  "kernelspec": {
   "display_name": ".venv",
   "language": "python",
   "name": "python3"
  },
  "language_info": {
   "codemirror_mode": {
    "name": "ipython",
    "version": 3
   },
   "file_extension": ".py",
   "mimetype": "text/x-python",
   "name": "python",
   "nbconvert_exporter": "python",
   "pygments_lexer": "ipython3",
   "version": "3.12.9"
  }
 },
 "nbformat": 4,
 "nbformat_minor": 2
}
